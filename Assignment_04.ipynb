{
  "nbformat": 4,
  "nbformat_minor": 0,
  "metadata": {
    "colab": {
      "provenance": []
    },
    "kernelspec": {
      "name": "python3",
      "display_name": "Python 3"
    },
    "language_info": {
      "name": "python"
    }
  },
  "cells": [
    {
      "cell_type": "markdown",
      "source": [
        "1.\tWhat exactly is []?\n",
        "\n",
        "[] are square brackets, which are used to create list in python. When we do not add any elements to the list, we create an empty list."
      ],
      "metadata": {
        "id": "qGOft-gZ1gti"
      }
    },
    {
      "cell_type": "code",
      "source": [
        "list1 = [1, 2, 3, 4, 5]\n",
        "print(list1)\n",
        "print(type(list1))"
      ],
      "metadata": {
        "colab": {
          "base_uri": "https://localhost:8080/"
        },
        "id": "X_dJIVK11vy6",
        "outputId": "8dc717f7-fe8b-42a0-e3f0-993002a05a59"
      },
      "execution_count": 1,
      "outputs": [
        {
          "output_type": "stream",
          "name": "stdout",
          "text": [
            "[1, 2, 3, 4, 5]\n",
            "<class 'list'>\n"
          ]
        }
      ]
    },
    {
      "cell_type": "markdown",
      "source": [
        "2. In a list of values stored in a variable called spam, how would you assign the value 'hello' as the third value? (Assume [2, 4, 6, 8, 10] are in spam.)\n",
        "\n",
        "Ans- We can use indexing to assign given value at required index."
      ],
      "metadata": {
        "id": "96eyYY6F14Uw"
      }
    },
    {
      "cell_type": "code",
      "source": [
        "spam =  [2, 4, 6, 8, 10]\n",
        "spam[1] = \"Hriday\" # replaces 4 with \"Hriday\"\n",
        "print(spam)"
      ],
      "metadata": {
        "colab": {
          "base_uri": "https://localhost:8080/"
        },
        "id": "AEv_hyP01_x4",
        "outputId": "41d5ec73-4c1b-4e03-e19d-16488bcd8b78"
      },
      "execution_count": 2,
      "outputs": [
        {
          "output_type": "stream",
          "name": "stdout",
          "text": [
            "[2, 'Hriday', 6, 8, 10]\n"
          ]
        }
      ]
    },
    {
      "cell_type": "code",
      "source": [
        "# we can use insert function, Incase if we don't want to replace element at given index\n",
        "spam =  [2, 4, 6, 8, 10]\n",
        "spam.insert(1, \"Hriday\") # inserts \"hello\" at index and reorders followed elements\n",
        "print(spam)"
      ],
      "metadata": {
        "colab": {
          "base_uri": "https://localhost:8080/"
        },
        "id": "WJ_VJyts2vJj",
        "outputId": "e0ce94bc-c34c-4a5f-fcaa-e32bb7fd1695"
      },
      "execution_count": 3,
      "outputs": [
        {
          "output_type": "stream",
          "name": "stdout",
          "text": [
            "[2, 'Hriday', 4, 6, 8, 10]\n"
          ]
        }
      ]
    },
    {
      "cell_type": "markdown",
      "source": [
        "Let's pretend the spam includes the list ['a', 'b', 'c', 'd'] for the next three queries.\n",
        "3. What is the value of spam[int(int('3' * 2) / 11)]?\n",
        "4. What is the value of spam[-1]?\n",
        "5. What is the value of spam[:2]?\n",
        "Let's pretend bacon has the list [3.14, 'cat,' 11, 'cat,' True] for the next three questions.\n"
      ],
      "metadata": {
        "id": "cDEXl9_62djT"
      }
    },
    {
      "cell_type": "code",
      "source": [
        "#Ans3\n",
        "spam1 = ['a', 'b', 'c', 'd']"
      ],
      "metadata": {
        "id": "kScPMzlt2mcJ"
      },
      "execution_count": null,
      "outputs": []
    },
    {
      "cell_type": "markdown",
      "source": [
        "#Ans4\n",
        "\n",
        "spam1[-1] will give \"d\" as the result because we are using negative indexing. Negative indexing starts from -1, -2, -3, and so on. and \"d\" is the 1 st element from last. So we will get \"d\" as the result because we are using negative indexing."
      ],
      "metadata": {
        "id": "iMipfqS83JqA"
      }
    },
    {
      "cell_type": "markdown",
      "source": [
        "Ans05\n",
        "\n",
        "spam1[:2] Here we are using slicing of list. list[start:end:step] is a format for slicing string, In spam1[:2] we are telling to stop at index 2, hence we get only first two elements of list."
      ],
      "metadata": {
        "id": "NeMy428o3yRA"
      }
    },
    {
      "cell_type": "markdown",
      "source": [
        "6. What is the value of bacon.index('cat')?\n",
        "7. How does bacon.append(99) change the look of the list value in bacon?\n",
        "8. How does bacon.remove('cat') change the look of the list in bacon?"
      ],
      "metadata": {
        "id": "KbOsI0LO3-hy"
      }
    },
    {
      "cell_type": "code",
      "source": [
        "#Ans: 6,\n",
        "bacon.index('cat')\n",
        "#it will give first occurrence of str 'cat' which is at index 1\n"
      ],
      "metadata": {
        "id": "ZaDbe-iv4Awv"
      },
      "execution_count": null,
      "outputs": []
    },
    {
      "cell_type": "code",
      "source": [
        "#ist.append(element) We can add additional elements to the list. bacon.append(99) will append the value 99 to the list bacon\n",
        "\n",
        "bacon.append(99) # adds int 99 to the end of the list.\n",
        "print(bacon)"
      ],
      "metadata": {
        "id": "QvLU28LS4VzY"
      },
      "execution_count": null,
      "outputs": []
    },
    {
      "cell_type": "code",
      "source": [
        "#Ans08\n",
        "\n",
        "bacon.remove('cat') # Remove first occurrence of value.\n",
        "print(bacon)"
      ],
      "metadata": {
        "id": "4eaHxH5f4eqv"
      },
      "execution_count": null,
      "outputs": []
    },
    {
      "cell_type": "code",
      "source": [
        "bacon.remove('cat')\n",
        "print(bacon)"
      ],
      "metadata": {
        "id": "4diu3PH04jZQ"
      },
      "execution_count": null,
      "outputs": []
    },
    {
      "cell_type": "code",
      "source": [
        "bacon.remove('cat')\n",
        "print(bacon)"
      ],
      "metadata": {
        "id": "ujBiI50a4qMJ"
      },
      "execution_count": null,
      "outputs": []
    },
    {
      "cell_type": "markdown",
      "source": [
        "9. What are the list concatenation and list replication operators?"
      ],
      "metadata": {
        "id": "0lK4hNoH4rop"
      }
    },
    {
      "cell_type": "code",
      "source": [
        "#List Concatenation Operator:\n",
        "#+ we use addition sign as Concatenation operator for lists. When we concatenate two lists we get new list with elements of first list followed by elements of second list. Does not Modify Original list.\n",
        "\n",
        "list1 = [1, 2, 3, 4, 5]\n",
        "list2 = [6, 7, 8, 9, 10]\n",
        "conc_list = list1 + list2\n",
        "print(conc_list)"
      ],
      "metadata": {
        "id": "DZEWFNyO4vWR"
      },
      "execution_count": null,
      "outputs": []
    },
    {
      "cell_type": "markdown",
      "source": [
        "2. List Replication Operator:\n",
        "* we use asterisk sign as Replication operator for lists. When we Replicate a list, we get new list with elements of an existing list a certain number of times. It creates a new list that contains multiple copies of the original list."
      ],
      "metadata": {
        "id": "l-af4X2J49H4"
      }
    },
    {
      "cell_type": "code",
      "source": [
        "rep_list = list1 * 3\n",
        "print(rep_list)"
      ],
      "metadata": {
        "id": "8rbrrDb05B74"
      },
      "execution_count": null,
      "outputs": []
    },
    {
      "cell_type": "markdown",
      "source": [
        "10. What is difference between the list methods append() and insert()?\n",
        "\n",
        "Ans - append() and insert() are both methods to add elements to the list but they differ in how they add those elements.\n",
        "\n",
        "append():\n",
        "\n",
        "1. adds element at the end of list\n",
        "2. takes one arg as (element)\n",
        "\n",
        "insert():\n",
        "\n",
        "1. adds element at given index\n",
        "2. takes two arg as (index, element)"
      ],
      "metadata": {
        "id": "xsJymhcf5DzZ"
      }
    },
    {
      "cell_type": "code",
      "source": [
        "list3 = [1, 2, 3]\n",
        "list3.append(\"appended\")\n",
        "print(list3)\n",
        "\n",
        "print(\"------------------------------------------------\")\n",
        "\n",
        "list3.insert(2, \"inserted\")\n",
        "print(list3)"
      ],
      "metadata": {
        "id": "1ziJ59Lf5gMn"
      },
      "execution_count": null,
      "outputs": []
    },
    {
      "cell_type": "code",
      "source": [
        "# Extra Info:\n",
        "list3.extend(list2) # we can use extend() which works similar to list concatenation.\n",
        "print(list3)\n"
      ],
      "metadata": {
        "id": "Pnp3IPbO5i9A"
      },
      "execution_count": null,
      "outputs": []
    },
    {
      "cell_type": "markdown",
      "source": [
        "11. What are the two methods for removing items from a list?"
      ],
      "metadata": {
        "id": "JlF9CW565mP3"
      }
    },
    {
      "cell_type": "code",
      "source": [
        "Ans.\n",
        "1. pop():\n",
        "1. deletes last element by default\n",
        "2. returns deleted element\n",
        "3. raises IndexError when out of range\n",
        "\n",
        "remove():\n",
        "1. deletes first occurrence of given element\n",
        "2. does not return deleted element.\n",
        "3. raises ValueError when no match found for element"
      ],
      "metadata": {
        "id": "zaU-i6sS5zNA"
      },
      "execution_count": null,
      "outputs": []
    },
    {
      "cell_type": "code",
      "source": [
        "list4 = [1, 2, 3, 4, 5, 6, 7, 8, 9, 10, 11, 12]\n",
        "list4.pop() # By default removes last element\n",
        "print(list4)"
      ],
      "metadata": {
        "id": "TBk8DeQT6cBR"
      },
      "execution_count": null,
      "outputs": []
    },
    {
      "cell_type": "code",
      "source": [
        "x = list4.pop() # Returns element which is deleted.\n",
        "print(x)\n",
        "print(list4)"
      ],
      "metadata": {
        "id": "IFdcMwiR6c5X"
      },
      "execution_count": null,
      "outputs": []
    },
    {
      "cell_type": "code",
      "source": [
        "x = list4.pop(0) # we can give specific index to remove value.\n",
        "print(x)\n",
        "print(list4)"
      ],
      "metadata": {
        "id": "bjZArdFO6exH"
      },
      "execution_count": null,
      "outputs": []
    },
    {
      "cell_type": "code",
      "source": [
        "x = list4.pop(20)  # raises index error when index is out of range\n",
        "print(x)\n",
        "print(list4)"
      ],
      "metadata": {
        "id": "pH4ox_UW6hFI"
      },
      "execution_count": null,
      "outputs": []
    },
    {
      "cell_type": "code",
      "source": [
        "list5 = ['a', 'b', 'b', 'b', 'c', 'd', 'b', 'e', 'f']\n",
        "list5.remove('a') # removes given element #!not index\n",
        "print(list5)"
      ],
      "metadata": {
        "id": "Z165ZCzG6knv"
      },
      "execution_count": null,
      "outputs": []
    },
    {
      "cell_type": "code",
      "source": [
        "list5.remove('b')\n",
        "print(list5)"
      ],
      "metadata": {
        "id": "kGRboeq46lbQ"
      },
      "execution_count": null,
      "outputs": []
    },
    {
      "cell_type": "code",
      "source": [
        "12. Describe how list values and string values are identical.\n",
        "\n",
        "Ans:\n",
        "\n",
        "Similarities:\n",
        "\n",
        "A. slicing method:\n",
        "we can use slicing in both strings as well as in lists.\n",
        "\n",
        "B. Can be iterated over:\n",
        "we can use iterators in both strings as well as in lists. We can put them in for loop to iterate over.\n",
        "\n",
        "C. Indexing:\n",
        "We can use indexing in both strings as well as in lists to get specific value at specific index.\n",
        "\n",
        "D. Check equality:\n",
        "We can use check equality in both strings as well as in lists by using == operator."
      ],
      "metadata": {
        "id": "oRYn73RZ6niA"
      },
      "execution_count": null,
      "outputs": []
    },
    {
      "cell_type": "markdown",
      "source": [],
      "metadata": {
        "id": "Hr3TMFo769ms"
      }
    },
    {
      "cell_type": "code",
      "source": [
        "13. What's the difference between tuples and lists?\n",
        "\n",
        "Ans:\n",
        "tuples and lists are both iterable data structures in python which can be used to store data regardless of their type. but they are different in some ways.\n",
        "\n",
        "tuples:\n",
        "\n",
        "Tuples are immutable data structures.\n",
        "We create tuples using parenthesis ().\n",
        "Tuples can not be modified hence more lightweight and faster\n",
        "Tuples are suitable when information is not required to change and for fast execution of the code. e.g. coordinates on the graph\n",
        "\n",
        "lists:\n",
        "\n",
        "list are mutable data structures.\n",
        "We create lists using [].\n",
        "Lists can be modified means we can delete their element or add new elements.\n",
        "Lists are use full where change in information is required. e.g list of shopping items"
      ],
      "metadata": {
        "id": "vtQisxVW6rnI"
      },
      "execution_count": null,
      "outputs": []
    },
    {
      "cell_type": "markdown",
      "source": [
        "14. How do you type a tuple value that only contains the integer 42?"
      ],
      "metadata": {
        "id": "IEqvCKRF7JfZ"
      }
    },
    {
      "cell_type": "code",
      "source": [
        "#to create single value tuple we need to give (comma = , ) after our element otherwise python will take it as int (for value 42)\n",
        "\n",
        "t = (42)\n",
        "print(type(t)) #! int\n",
        "print(\"------------------------------\")\n",
        "t = (42, ) # , is important to create single value tuple\n",
        "print(t)\n",
        "print(type(t))"
      ],
      "metadata": {
        "id": "C-JazksY7MXQ"
      },
      "execution_count": null,
      "outputs": []
    },
    {
      "cell_type": "markdown",
      "source": [
        "15. How do you get a list value's tuple form? How do you get a tuple value's list form?"
      ],
      "metadata": {
        "id": "m8N6BqkN7TnY"
      }
    },
    {
      "cell_type": "code",
      "source": [
        "my_list = [1, 2, 3]\n",
        "my_tuple = tuple(my_list)\n",
        "print(my_tuple)\n",
        "print(type(my_tuple))"
      ],
      "metadata": {
        "id": "suuTMYeF7WjJ"
      },
      "execution_count": null,
      "outputs": []
    },
    {
      "cell_type": "code",
      "source": [
        "my_tuple1 = (\"a\", \"b\", \"c\")\n",
        "my_list1 = list(my_tuple1)\n",
        "print(my_list1)\n",
        "print(type(my_list1))"
      ],
      "metadata": {
        "id": "m6Zbxp147Z4o"
      },
      "execution_count": null,
      "outputs": []
    },
    {
      "cell_type": "markdown",
      "source": [
        "16. Variables that \"contain\" list values are not necessarily lists themselves. Instead, what do they contain?"
      ],
      "metadata": {
        "id": "7x3JOtD-7bYC"
      }
    },
    {
      "cell_type": "code",
      "source": [
        "#variables that \"contain\" list values are actually just references or pointers to the memory location where the list object is stored. When a list is assigned to a variable, the variable is actually pointing to the memory location where the list is stored in the computer's memory. This means that the variable is not the list itself, but a reference to the list.\n",
        "\n",
        "\n",
        "# Extra Info:\n",
        "\n",
        "x = [1, 2, 3]\n",
        "y = x.copy()\n",
        "# two different objects get created and stored separately\n",
        "print(x == y)\n",
        "x.pop()\n",
        "print(x)\n",
        "print(y)"
      ],
      "metadata": {
        "id": "njRTrHpZ6-gj"
      },
      "execution_count": null,
      "outputs": []
    },
    {
      "cell_type": "code",
      "source": [
        "17. How do you distinguish between copy.copy() and copy.deepcopy()?"
      ],
      "metadata": {
        "id": "_CYommtQ7nln"
      },
      "execution_count": null,
      "outputs": []
    },
    {
      "cell_type": "code",
      "source": [
        "import copy\n",
        "\n",
        "original_list = [1, 2, 3, 4, 5]\n",
        "new_list = copy.copy(original_list)\n",
        "\n",
        "new_list[2] = \"change is here\"\n",
        "\n",
        "print(original_list)\n"
      ],
      "metadata": {
        "id": "nPD3irvq7pJn"
      },
      "execution_count": null,
      "outputs": []
    },
    {
      "cell_type": "markdown",
      "source": [
        "copy.copy() creates a new object that references the same content as the original object, while copy.deepcopy() creates a new object with completely independent content from the original object. Which method you use will depend on the specific use case and whether you want changes to the new object to affect the original object or not.\n",
        "\n",
        "A shallow copy creates a new object, but it does not create new copies of the object's internal objects. Instead, it creates references to the internal objects of the original object. So, any changes made to the original object's internal objects will be reflected in the shallow copy."
      ],
      "metadata": {
        "id": "k9Eq8dJG7yfH"
      }
    },
    {
      "cell_type": "code",
      "source": [
        "import copy\n",
        "\n",
        "original_list = [[1, 2], [3, 4]]\n",
        "new_list = copy.copy(original_list)\n",
        "\n",
        "# modify the first element of the first sublist in the new list\n",
        "new_list[0][0] = 'change is here'\n",
        "\n",
        "# the change affects the original list too\n",
        "print(original_list)"
      ],
      "metadata": {
        "id": "BFz6QBP671io"
      },
      "execution_count": null,
      "outputs": []
    },
    {
      "cell_type": "markdown",
      "source": [
        "On the other hand, a deep copy creates a new object, and it also creates new copies of the object's internal objects. Any changes made to the original object's internal objects will not be reflected in the deep copy.\n",
        "\n"
      ],
      "metadata": {
        "id": "ElXCDWKT73Qg"
      }
    },
    {
      "cell_type": "code",
      "source": [
        "import copy\n",
        "\n",
        "original_list = [[1, 2], [3, 4]]\n",
        "new_list = copy.deepcopy(original_list)\n",
        "\n",
        "# modify the first element of the first sublist in the new list\n",
        "new_list[0][0] = 'change is here'\n",
        "\n",
        "\n",
        "# the change does not affect the original list\n",
        "print(original_list)"
      ],
      "metadata": {
        "id": "yg5U-1-u75Hg"
      },
      "execution_count": null,
      "outputs": []
    }
  ]
}